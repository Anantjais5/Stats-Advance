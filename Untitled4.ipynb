{
  "nbformat": 4,
  "nbformat_minor": 0,
  "metadata": {
    "colab": {
      "provenance": []
    },
    "kernelspec": {
      "name": "python3",
      "display_name": "Python 3"
    },
    "language_info": {
      "name": "python"
    }
  },
  "cells": [
    {
      "cell_type": "markdown",
      "source": [
        "Question1: Define the z-statistic and explain its relationship to the standard normal distribution. How is the\n",
        "z-statistic used in hypothesis testing?"
      ],
      "metadata": {
        "id": "HFSjQc_MXiml"
      }
    },
    {
      "cell_type": "code",
      "execution_count": 14,
      "metadata": {
        "id": "TjfpXlk9XVKO"
      },
      "outputs": [],
      "source": [
        "#The z-statistic is a standardized score that measures how many standard deviations a data point is from the mean of a population\n",
        "#The z-statistic is closely related to the standard normal distribution, which is a normal distribution with a mean of 0 and a standard deviation of 1.\n",
        "#The z-statistic transforms any normally distributed variable into a standard normal variable.\n",
        "#This allows us to compare data points from different distributions and to calculate probabilities associated with them using the standard normal distribution table."
      ]
    },
    {
      "cell_type": "markdown",
      "source": [
        "Question2 : What is a p-value, and how is it used in hypothesis testing? What does it mean if the p-value is\n",
        "very small (e.g., 0.01)?"
      ],
      "metadata": {
        "id": "kHdkhev3Yeoc"
      }
    },
    {
      "cell_type": "code",
      "source": [
        "#A p-value is a probability value that measures the strength of evidence against the null hypothesis.\n",
        "#In simpler terms, it tells us how likely it is to observe the data we did, assuming that the null hypothesis is true.\n",
        "\n",
        "\n",
        "#How p-values are used in hypothesis testing:\n",
        "#State the null hypothesis: This is the default assumption that there is no effect or difference.\n",
        "#Conduct a statistical test: This test calculates a test statistic based on the data.\n",
        "#Calculate the p-value: This is the probability of observing a test statistic as extreme or more extreme than the one calculated, assuming the null hypothesis is true.\n",
        "#Make a decision: If the p-value is less than a predetermined significance level (often 0.05), we reject the null hypothesis in favor of the alternative hypothesis.\n",
        "\n",
        "\n",
        "#A small p-value (e.g., 0.01) means that it is very unlikely to observe the data we did if the null hypothesis were true.\n",
        "#This suggests strong evidence in favor of the alternative hypothesis. In other words, it is highly unlikely that the observed effect or difference occurred by chance.\n",
        "\n"
      ],
      "metadata": {
        "id": "QNbZBkKpYO8r"
      },
      "execution_count": 15,
      "outputs": []
    },
    {
      "cell_type": "markdown",
      "source": [
        "Question3: Compare and contrast the binomial and Bernoulli distributions."
      ],
      "metadata": {
        "id": "P1thxnabZtSe"
      }
    },
    {
      "cell_type": "code",
      "source": [
        "#Both the binomial and Bernoulli distributions are discrete probability distributions used to model the number of successes in a series of trials.\n",
        "#However, they differ in their scope and parameters.\n",
        "#Bernoulli Distribution: Models the outcome of a single binary trial.\n",
        "#Binomial Distribution: Models the number of successes in a fixed number of independent Bernoulli trials.\n",
        "\n",
        "#The Bernoulli distribution models the outcome of a single trial (success or failure).\n",
        "#The binomial distribution models the total number of successes in multiple trials.\n"
      ],
      "metadata": {
        "id": "uCOBvBofZmbu"
      },
      "execution_count": 16,
      "outputs": []
    },
    {
      "cell_type": "markdown",
      "source": [
        "Question 4: Under what conditions is the binomial distribution used, and how does it relate to the Bernoulli\n",
        "distribution?"
      ],
      "metadata": {
        "id": "f9FK3QoqbIdO"
      }
    },
    {
      "cell_type": "code",
      "source": [
        "#Conditions for using the binomial distribution:\n",
        "\n",
        "#Fixed number of trials (n): The number of trials must be known in advance and remain constant.\n",
        "#Independence: Each trial must be independent of the others. The outcome of one trial does not affect the outcome of another.\n",
        "#Constant probability of success (p):\n",
        "\n",
        "#The probability of success must remain the same for each trial.\n",
        "\n",
        "# The binomial distribution is used to model multiple Bernoulli trials, while the Bernoulli distribution models a single trial.\n",
        "#Both distributions are used to model binary outcomes, but the binomial distribution is more flexible as it can handle multiple trials.\n",
        "\n"
      ],
      "metadata": {
        "id": "qPAnDhrdbJRD"
      },
      "execution_count": 17,
      "outputs": []
    },
    {
      "cell_type": "markdown",
      "source": [
        "Question5: What are the key properties of the Poisson distribution, and when is it appropriate to use this\n",
        "distribution?"
      ],
      "metadata": {
        "id": "BGC4ooycckY8"
      }
    },
    {
      "cell_type": "code",
      "source": [
        "#The Poisson distribution is a discrete probability distribution that models the number of events occurring within a fixed interval of time or space.\n",
        "\n",
        "#Key properties of the Poisson distribution:\n",
        "\n",
        "#Discrete: The Poisson distribution models a discrete random variable, which can only take on integer values.\n",
        "#Non-negative: The number of events cannot be negative.\n",
        "#Mean and variance are equal: The mean (λ) and variance (σ²) of a Poisson distribution are equal.\n",
        "#No upper limit: The number of events can be arbitrarily large.\n",
        "\n",
        "#When to use the Poisson distribution:\n",
        "\n",
        "#Rare events: The Poisson distribution is well-suited for modeling rare events, such as the number of car accidents in a day, the number of earthquakes in a year, or the number of defects in a manufactured product.\n",
        "#Constant rate: The events must occur at a constant rate over time or space. This means that the probability of an event occurring in a given interval is proportional to the length of the interval.\n",
        "#Independence: The events must be independent of each other. This means that the occurrence of one event does not affect the probability of another event occurring."
      ],
      "metadata": {
        "id": "jM07GNlYcb-j"
      },
      "execution_count": 18,
      "outputs": []
    },
    {
      "cell_type": "markdown",
      "source": [
        "Question6: Define the terms \"probability distribution\" and \"probability density function\" (PDF). How does a\n",
        "PDF differ from a probability mass function (PMF)?"
      ],
      "metadata": {
        "id": "Lpn9KPu9eZJB"
      }
    },
    {
      "cell_type": "code",
      "source": [
        "#Probability Distribution: A probability distribution is a mathematical function that describes the likelihood of different possible values of a random variable occurring.\n",
        "#It provides a complete picture of the possible outcomes of a random experiment and their associated probabilities.\n",
        "\n",
        "\n",
        "#Probability Mass Function (PMF)\n",
        "#A probability mass function is used for discrete random variables.\n",
        "#It gives the probability that a discrete random variable is exactly equal to some value. In other words, it assigns a probability to each possible value of the random variable.\n",
        "\n",
        "\n",
        "#Probability Density Function (PDF)\n",
        "#A probability density function (PDF) is used for continuous random variables.\n",
        "#It does not give the direct probability of a specific value, but rather the probability of the random variable falling within a certain range of values.\n",
        "#The PDF is a curve such that the area under the curve between two points represents the probability of the random variable falling within that range.\n",
        "\n",
        "#Key differences between PMF and PDF:\n",
        "\n",
        "#Discrete (PMF)) vs. Continuous(PDF): PMFs are used for discrete random variables . while PDFs are used for continuous random variables.\n",
        "\n",
        "\n",
        "#Both PMFs and PDFs are used to describe probability distributions. However, PMFs are used for discrete random variables, while PDFs are used for continuous random variables.\n",
        "#The key difference lies in how they represent the probability of different outcomes."
      ],
      "metadata": {
        "id": "hsCYSYWQdodn"
      },
      "execution_count": 19,
      "outputs": []
    },
    {
      "cell_type": "markdown",
      "source": [
        "Question7: Explain the Central Limit Theorem (CLT) with example."
      ],
      "metadata": {
        "id": "jzW8FJE-g5y_"
      }
    },
    {
      "cell_type": "code",
      "source": [
        "#In simpler terms, no matter what shape the original population distribution is, if you take enough samples from it and calculate the mean of each sample, the distribution of those sample means will be approximately normal.\n",
        "\n",
        "#Example:\n",
        "\n",
        "#Imagine you have a population of people with a wide variety of heights, ranging from very short to very tall.\n",
        "#The distribution of heights in this population might not be normal. However, if you take many random samples of people from this population and calculate the average height of each sample, the distribution of these sample means will be approximately normal, even if the original height distribution was not.\n",
        "\n"
      ],
      "metadata": {
        "id": "F_foD0L8gpoz"
      },
      "execution_count": 20,
      "outputs": []
    },
    {
      "cell_type": "markdown",
      "source": [
        "Question8: Compare z-scores and t-scores. When should you use a z-score, and when should a t-score be applied instead?"
      ],
      "metadata": {
        "id": "qJwuHctTiNtI"
      }
    },
    {
      "cell_type": "code",
      "source": [
        "#Both z-scores and t-scores are used to standardize data and compare values to a distribution. However, they are used under different conditions.\n",
        "\n",
        "#Z-Scores\n",
        "#Used when:\n",
        "#The population standard deviation is known.\n",
        "#The sample size is large (typically considered 30 or more).\n",
        "\n",
        "#T-Scores\n",
        "#Used when:\n",
        "#The population standard deviation is unknown.\n",
        "#The sample size is small (typically less than 30).\n",
        "\n"
      ],
      "metadata": {
        "id": "8LeXWbNHg3rz"
      },
      "execution_count": 21,
      "outputs": []
    },
    {
      "cell_type": "markdown",
      "source": [
        "Question9: Given a sample mean of 105, a population mean of 100, a standard deviation of 15, and a sample\n",
        "size of 25, calculate the z-score and p-value. Based on a significance level of 0.05, do you reject or fail to\n",
        "reject the null hypothesis?\n",
        "\n",
        " Task: Write Python code to calculate the z-score and p-value for the given data.\n",
        "\n",
        "Objective: Apply the formula for the z-score and interpret the p-value for hypothesis testing."
      ],
      "metadata": {
        "id": "m3dd3yJBjSji"
      }
    },
    {
      "cell_type": "code",
      "source": [
        "import scipy.stats as stats\n",
        "\n",
        "# Given data\n",
        "sample_mean = 105\n",
        "population_mean = 100\n",
        "population_std_dev = 15\n",
        "sample_size = 25\n",
        "\n",
        "# Calculate the z-score\n",
        "z_score = (sample_mean - population_mean) / (population_std_dev / sample_size**0.5)\n",
        "\n",
        "# Calculate the p-value (two-tailed test)\n",
        "p_value = stats.norm.cdf(z_score) * 2\n",
        "\n",
        "# Significance level\n",
        "alpha = 0.05\n",
        "\n",
        "# Check if p-value is less than alpha\n",
        "if p_value < alpha:\n",
        "    print(\"Reject the null hypothesis\")\n",
        "else:\n",
        "    print(\"Fail to reject the null hypothesis\")\n",
        "\n",
        "print(\"z-score:\", z_score)\n",
        "print(\"p-value:\", p_value)"
      ],
      "metadata": {
        "colab": {
          "base_uri": "https://localhost:8080/"
        },
        "id": "dFsFnkt6iu9z",
        "outputId": "85df25c4-7959-4453-b296-ab4f95738d21"
      },
      "execution_count": 22,
      "outputs": [
        {
          "output_type": "stream",
          "name": "stdout",
          "text": [
            "Fail to reject the null hypothesis\n",
            "z-score: 1.6666666666666667\n",
            "p-value: 1.9044192954543706\n"
          ]
        }
      ]
    },
    {
      "cell_type": "markdown",
      "source": [
        "Question10: Simulate a binomial distribution with 10 trials and a probability of success of 0.6 using Python.\n",
        "Generate 1,000 samples and plot the distribution. What is the expected mean and variance?\n",
        "\n",
        "Task: Use Python to generate the data, plot the distribution, and calculate the mean and variance.\n",
        "\n",
        "Objective: Understand the properties of a binomial distribution and verify them through simulation."
      ],
      "metadata": {
        "id": "PEAcUV5akA-K"
      }
    },
    {
      "cell_type": "code",
      "source": [
        "import numpy as np\n",
        "import matplotlib.pyplot as plt\n",
        "\n",
        "# Set parameters\n",
        "n = 10  # Number of trials\n",
        "p = 0.6  # Probability of success\n",
        "\n",
        "# Generate 1000 samples\n",
        "samples = np.random.binomial(n, p, size=1000)\n",
        "\n",
        "# Plot the distribution\n",
        "plt.hist(samples, bins=range(n+1), density=True, alpha=0.7)\n",
        "plt.xlabel('Number of Successes')\n",
        "plt.ylabel('Probability')\n",
        "plt.title('Binomial Distribution (n=10, p=0.6)')\n",
        "plt.show()\n",
        "\n",
        "# Calculate the expected mean and variance\n",
        "expected_mean = n * p\n",
        "expected_variance = n * p * (1 - p)\n",
        "\n",
        "print(\"Expected Mean:\", expected_mean)\n",
        "print(\"Expected Variance:\", expected_variance)"
      ],
      "metadata": {
        "colab": {
          "base_uri": "https://localhost:8080/",
          "height": 507
        },
        "id": "WGHLH4GRjmu7",
        "outputId": "11926401-9925-4616-b54e-59c0236131ca"
      },
      "execution_count": 23,
      "outputs": [
        {
          "output_type": "display_data",
          "data": {
            "text/plain": [
              "<Figure size 640x480 with 1 Axes>"
            ],
            "image/png": "[encoded data removed]"
          },
          "metadata": {}
        },
        {
          "output_type": "stream",
          "name": "stdout",
          "text": [
            "Expected Mean: 6.0\n",
            "Expected Variance: 2.4000000000000004\n"
          ]
        }
      ]
    },
    {
      "cell_type": "code",
      "source": [],
      "metadata": {
        "id": "1MTrijEbkVyl"
      },
      "execution_count": 23,
      "outputs": []
    }
  ]
}